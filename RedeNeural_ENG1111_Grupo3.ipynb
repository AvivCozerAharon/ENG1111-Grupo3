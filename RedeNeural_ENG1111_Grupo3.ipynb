{
  "nbformat": 4,
  "nbformat_minor": 0,
  "metadata": {
    "colab": {
      "provenance": []
    },
    "kernelspec": {
      "name": "python3",
      "display_name": "Python 3"
    },
    "language_info": {
      "name": "python"
    }
  },
  "cells": [
    {
      "cell_type": "code",
      "execution_count": null,
      "metadata": {
        "id": "jhsZJcujdHsM"
      },
      "outputs": [],
      "source": [
        "import pandas as pd\n",
        "import numpy\n",
        "import sklearn\n",
        "import seaborn as sns\n",
        "from sklearn.preprocessing import LabelEncoder\n",
        "\n",
        "\n",
        "# Importando o database de notas de matematica\n",
        "student_data_mat=pd.read_csv('student-mat.csv')\n",
        "\n",
        "\n",
        "# Limpando dados\n",
        "student_data_mat.dtypes\n",
        "student_data_mat = student_data_mat.drop(['school','address','guardian','internet','nursery'], axis=1)\n",
        "\n",
        "le_genero = LabelEncoder()\n",
        "student_data_mat['sex'] = le_genero.fit_transform(student_data_mat['sex'])\n",
        "le_aulaPart = LabelEncoder()\n",
        "student_data_mat['paid'] = le_aulaPart.fit_transform(student_data_mat['paid'])\n",
        "le_monitoria = LabelEncoder()\n",
        "student_data_mat['schoolsup'] = le_monitoria.fit_transform(student_data_mat['schoolsup'])\n",
        "le_ajudaFam = LabelEncoder()\n",
        "student_data_mat['famsup'] = le_ajudaFam.fit_transform(student_data_mat['famsup'])\n",
        "le_qtdfam = LabelEncoder()\n",
        "student_data_mat['famsize'] = le_qtdfam.fit_transform(student_data_mat['famsize'])\n",
        "le_statuspais = LabelEncoder()\n",
        "student_data_mat['Pstatus'] = le_statuspais.fit_transform(student_data_mat['Pstatus'])\n",
        "le_empM = LabelEncoder()\n",
        "student_data_mat['Mjob'] = le_empM.fit_transform(student_data_mat['Mjob'])\n",
        "le_empP = LabelEncoder()\n",
        "student_data_mat['Fjob'] = le_empP.fit_transform(student_data_mat['Fjob'])\n",
        "le_motivo = LabelEncoder()\n",
        "student_data_mat['reason'] = le_motivo.fit_transform(student_data_mat['reason'])\n",
        "\n",
        "\n",
        "le_ativextra = LabelEncoder()\n",
        "student_data_mat['activities'] = le_ativextra.fit_transform(student_data_mat['activities'])\n",
        "\n",
        "\n",
        "le_statusrel = LabelEncoder()\n",
        "student_data_mat['romantic'] = le_statusrel.fit_transform(student_data_mat['romantic'])\n",
        "\n",
        "le_ensinosup = LabelEncoder()\n",
        "student_data_mat['higher'] = le_ensinosup.fit_transform(student_data_mat['higher'])\n",
        "\n",
        "\n",
        "student_data_mat.dropna()\n",
        "\n",
        "# Criando o HEATMAP do database de matematica\n",
        "plt.figure(figsize=(40,30))\n",
        "heatmap = sns.heatmap(student_data_mat.corr(),vmin= -1, vmax = 1, annot = True,fmt=\".3f\",cmap='PiYG')\n",
        "\n",
        "\n"
      ]
    },
    {
      "cell_type": "markdown",
      "source": [
        "**REDE NEURAL MAT**"
      ],
      "metadata": {
        "id": "7ak-TL7zkp_v"
      }
    },
    {
      "cell_type": "code",
      "source": [
        "from sklearn.model_selection import train_test_split\n",
        "from sklearn.neural_network import MLPClassifier\n",
        "\n",
        "\n",
        "x = student_data_mat.drop(['G1','G2','G3'],axis=1)\n",
        "y = student_data_mat['G3']\n",
        "X_treino,X_teste,Y_treino,Y_teste = train_test_split(x,y,test_size = 0.3)\n",
        "\n",
        "model = MLPClassifier(max_iter=400,hidden_layer_sizes = (64,40,30,20,20)).fit(X_treino,Y_treino)\n",
        "best_score = 0\n",
        "score = 0\n",
        "\n",
        "score = model.score(X_treino,Y_treino)\n",
        "while best_score < 0.90:\n",
        "  if score>best_score:\n",
        "    best_score = score\n",
        "\n",
        "print(best_score)\n",
        "model.predict(X_teste)"
      ],
      "metadata": {
        "colab": {
          "base_uri": "https://localhost:8080/"
        },
        "id": "5gKmpNO7ks7e",
        "outputId": "acde2181-2010-441c-ec15-6facb1ae2a54"
      },
      "execution_count": null,
      "outputs": [
        {
          "output_type": "stream",
          "name": "stdout",
          "text": [
            "0.9601449275362319\n"
          ]
        },
        {
          "output_type": "stream",
          "name": "stderr",
          "text": [
            "/usr/local/lib/python3.8/dist-packages/sklearn/neural_network/_multilayer_perceptron.py:692: ConvergenceWarning: Stochastic Optimizer: Maximum iterations (400) reached and the optimization hasn't converged yet.\n",
            "  warnings.warn(\n"
          ]
        },
        {
          "output_type": "execute_result",
          "data": {
            "text/plain": [
              "array([ 8, 15, 14, 10, 10, 16, 10, 12,  6,  8, 14, 13,  0, 12,  0, 10, 13,\n",
              "       13,  8,  0,  0,  0,  7, 10, 16, 14, 10, 11, 11,  8, 10, 16, 16,  8,\n",
              "        6, 10,  5, 18, 14,  9, 14, 11, 13, 16,  9,  8,  8,  7, 12,  0,  9,\n",
              "        9, 10, 18, 10, 17, 13, 10, 13, 15,  9, 13,  8, 12, 10,  9, 12, 13,\n",
              "        8, 18, 10,  8, 10, 16, 12, 11,  8,  0, 19,  0, 11, 12, 14,  0, 10,\n",
              "       10, 12, 14,  8,  0, 13,  0, 18, 10, 10, 10, 10, 10, 11,  7,  8, 10,\n",
              "       13, 15, 15, 15, 15, 14, 15,  9, 17, 11, 10,  0, 19, 13,  6, 18, 10])"
            ]
          },
          "metadata": {},
          "execution_count": 9
        }
      ]
    },
    {
      "cell_type": "code",
      "source": [
        "import pickle\n",
        "data = {\"model\": model, \n",
        "        \"le_genero\": le_genero,\n",
        "        \"le_ajudaFam\": le_ajudaFam, \n",
        "        \"le_qtdfam\": le_qtdfam,\n",
        "        \"le_monitoria\":le_monitoria,\n",
        "        \"le_aulaPart\": le_aulaPart,\n",
        "        \"le_statuspais\": le_statuspais,\n",
        "        \"le_empM\": le_empM,\n",
        "        \"le_empP\": le_empP,\n",
        "        \"le_motivo\": le_motivo,\n",
        "        \"le_ativextra\": le_ativextra,\n",
        "        \"le_statusrel\": le_statusrel,\n",
        "        \"le_ensinosup\": le_ensinosup,\n",
        "\n",
        "\n",
        "        }\n",
        "with open('saved_steps.pkl', 'wb') as file:\n",
        "    pickle.dump(data, file)"
      ],
      "metadata": {
        "id": "h6upt4lBhxNY"
      },
      "execution_count": null,
      "outputs": []
    },
    {
      "cell_type": "code",
      "source": [
        "import pandas as pd\n",
        "import numpy\n",
        "import sklearn\n",
        "import seaborn as sns\n",
        "import matplotlib.pyplot as plt\n",
        "from sklearn.preprocessing import LabelEncoder\n",
        "\n",
        "\n",
        "# Importando o database de notas de matematirca\n",
        "student_data_por=pd.read_csv('student-por.csv')\n",
        "\n",
        "\n",
        "# Limpando dados\n",
        "student_data_por.dtypes\n",
        "student_data_por = student_data_por.drop(['school','address','guardian','internet','nursery'], axis=1)\n",
        "\n",
        "le_genero = LabelEncoder()\n",
        "student_data_por['sex'] = le_genero.fit_transform(student_data_por['sex'])\n",
        "le_aulaPart = LabelEncoder()\n",
        "student_data_por['paid'] = le_aulaPart.fit_transform(student_data_por['paid'])\n",
        "le_monitoria = LabelEncoder()\n",
        "student_data_por['schoolsup'] = le_monitoria.fit_transform(student_data_por['schoolsup'])\n",
        "le_ajudaFam = LabelEncoder()\n",
        "student_data_por['famsup'] = le_ajudaFam.fit_transform(student_data_por['famsup'])\n",
        "\n",
        "le_qtdfam = LabelEncoder()\n",
        "student_data_por['famsize'] = le_qtdfam.fit_transform(student_data_por['famsize'])\n",
        "le_statuspais = LabelEncoder()\n",
        "student_data_por['Pstatus'] = le_statuspais.fit_transform(student_data_por['Pstatus'])\n",
        "\n",
        "le_empM = LabelEncoder()\n",
        "student_data_por['Mjob'] = le_empM.fit_transform(student_data_por['Mjob'])\n",
        "\n",
        "le_empP = LabelEncoder()\n",
        "student_data_por['Fjob'] = le_empP.fit_transform(student_data_por['Fjob'])\n",
        "\n",
        "\n",
        "\n",
        "le_motivo = LabelEncoder()\n",
        "student_data_por['reason'] = le_motivo.fit_transform(student_data_por['reason'])\n",
        "\n",
        "\n",
        "le_ativextra = LabelEncoder()\n",
        "student_data_por['activities'] = le_ativextra.fit_transform(student_data_por['activities'])\n",
        "\n",
        "\n",
        "le_statusrel = LabelEncoder()\n",
        "student_data_por['romantic'] = le_statusrel.fit_transform(student_data_por['romantic'])\n",
        "\n",
        "le_ensinosup = LabelEncoder()\n",
        "student_data_por['higher'] = le_ensinosup.fit_transform(student_data_por['higher'])\n",
        "\n",
        "\n",
        "from sklearn.model_selection import train_test_split\n",
        "from sklearn.neural_network import MLPClassifier\n",
        "\n",
        "\n",
        "x = student_data_por.drop(['G1','G2','G3'],axis=1)\n",
        "y = student_data_por['G3']\n",
        "X_treino,X_teste,Y_treino,Y_teste = train_test_split(x,y,test_size = 0.3)\n",
        "\n",
        "model = MLPClassifier(max_iter=400,hidden_layer_sizes = (64,40,30,20,20)).fit(X_treino,Y_treino)\n",
        "best_score = 0\n",
        "score = 0\n",
        "\n",
        "score = model.score(X_treino,Y_treino)\n",
        "while best_score < 0.85:\n",
        "  if score>best_score:\n",
        "    best_score = score\n",
        "\n",
        "print(best_score)\n",
        "model.predict(X_teste)\n",
        "\n"
      ],
      "metadata": {
        "colab": {
          "base_uri": "https://localhost:8080/"
        },
        "id": "Ta4DRrI9Kx1v",
        "outputId": "56da6c64-b87b-48e2-c560-65d0f7f25756"
      },
      "execution_count": 10,
      "outputs": [
        {
          "output_type": "stream",
          "name": "stdout",
          "text": [
            "0.960352422907489\n"
          ]
        },
        {
          "output_type": "stream",
          "name": "stderr",
          "text": [
            "/usr/local/lib/python3.8/dist-packages/sklearn/neural_network/_multilayer_perceptron.py:692: ConvergenceWarning: Stochastic Optimizer: Maximum iterations (400) reached and the optimization hasn't converged yet.\n",
            "  warnings.warn(\n"
          ]
        },
        {
          "output_type": "execute_result",
          "data": {
            "text/plain": [
              "array([15, 11, 13, 11,  0, 12, 13, 13, 13, 13, 10, 14, 10, 13, 17, 13,  9,\n",
              "       13,  9, 13, 10, 10, 14, 12,  9, 16,  9, 10, 15,  8, 14, 10, 10,  7,\n",
              "        8, 10, 15, 14, 10, 11, 10,  9, 13, 17, 10, 15, 13, 10, 13, 11,  0,\n",
              "       12, 11, 12, 13, 17, 11, 17, 10, 11, 11, 10, 12, 11, 17, 12, 11, 15,\n",
              "       13, 13, 17,  0, 13, 10, 10, 12, 15, 12, 13, 10, 17, 14, 12, 11, 15,\n",
              "       11, 11, 10, 12, 13, 13, 15, 15, 12,  9, 11, 13,  8, 14,  9, 14, 11,\n",
              "       10,  8, 11, 10,  8, 10, 11, 13, 12,  9, 11, 11, 12, 13, 12, 14, 15,\n",
              "        9, 15, 17, 13, 13, 16, 16, 11, 15, 11, 13, 13,  8, 11, 18, 10, 10,\n",
              "       10, 11, 12, 11, 13, 16, 11,  8, 11, 11, 11, 15,  0, 13,  0, 10, 11,\n",
              "       15, 14,  9, 11, 11, 10, 14, 11, 10, 14, 10, 10, 11, 12, 10, 11, 14,\n",
              "       17, 12, 11, 11, 17, 14, 14, 10, 14, 11, 11,  0,  9, 15, 13, 10, 13,\n",
              "       11, 16, 11,  9, 18, 13,  8, 13])"
            ]
          },
          "metadata": {},
          "execution_count": 10
        }
      ]
    },
    {
      "cell_type": "code",
      "source": [
        "import pickle\n",
        "data = {\"model\": model, \n",
        "        \"le_genero\": le_genero,\n",
        "        \"le_ajudaFam\": le_ajudaFam, \n",
        "        \"le_qtdfam\": le_qtdfam,\n",
        "        \"le_monitoria\":le_monitoria,\n",
        "        \"le_aulaPart\": le_aulaPart,\n",
        "        \"le_statuspais\": le_statuspais,\n",
        "        \"le_empM\": le_empM,\n",
        "        \"le_empP\": le_empP,\n",
        "        \"le_motivo\": le_motivo,\n",
        "        \"le_ativextra\": le_ativextra,\n",
        "        \"le_statusrel\": le_statusrel,\n",
        "        \"le_ensinosup\": le_ensinosup, }\n",
        "with open('saved_steps_por.pkl', 'wb') as file:\n",
        "    pickle.dump(data, file)"
      ],
      "metadata": {
        "id": "w3Zmj1suIDB8"
      },
      "execution_count": 11,
      "outputs": []
    }
  ]
}